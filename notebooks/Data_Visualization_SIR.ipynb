{
 "cells": [
  {
   "cell_type": "code",
   "execution_count": 1,
   "metadata": {},
   "outputs": [],
   "source": [
    "import pandas as pd\n",
    "import numpy as np\n",
    "\n",
    "import plotly.graph_objects as go\n",
    "\n",
    "import dash\n",
    "from dash import dcc as doc\n",
    "from dash.dependencies import Input, Output\n",
    "from dash import html\n",
    "import dash_daq as daq\n",
    "\n",
    "from scipy import optimize\n",
    "from scipy import integrate"
   ]
  },
  {
   "cell_type": "markdown",
   "metadata": {},
   "source": [
    "# Data Visualization with Dashboard"
   ]
  },
  {
   "cell_type": "markdown",
   "metadata": {},
   "source": [
    "## Load Dataset"
   ]
  },
  {
   "cell_type": "code",
   "execution_count": 2,
   "metadata": {},
   "outputs": [],
   "source": [
    "df_covid = pd.read_csv(\"../data/raw/covid_full_data.csv\", sep=\";\")\n",
    "countries = df_covid['location'].unique()"
   ]
  },
  {
   "cell_type": "markdown",
   "metadata": {},
   "source": [
    "## Define SIR functions"
   ]
  },
  {
   "cell_type": "code",
   "execution_count": 3,
   "metadata": {},
   "outputs": [],
   "source": [
    "N0=0\n",
    "S0=0\n",
    "I0=0\n",
    "R0=0\n",
    "t=0\n",
    "def SIR_model_t(SIR,t,beta,gamma):\n",
    "    global N0\n",
    "    ''' Simple SIR model\n",
    "        S: susceptible population\n",
    "        t: time step, mandatory for integral.odeint\n",
    "        I: infected people\n",
    "        R: recovered people\n",
    "        beta: \n",
    "        \n",
    "        overall condition is that the sum of changes (differnces) sum up to 0\n",
    "        dS+dI+dR=0\n",
    "        S+I+R= N (constant size of population)\n",
    "    \n",
    "    '''\n",
    "    \n",
    "    S,I,R=SIR\n",
    "    dS_dt=-beta*S*I/N0          #S*I is the \n",
    "    dI_dt=beta*S*I/N0-gamma*I\n",
    "    dR_dt=gamma*I\n",
    "    return dS_dt,dI_dt,dR_dt"
   ]
  },
  {
   "cell_type": "code",
   "execution_count": 4,
   "metadata": {},
   "outputs": [],
   "source": [
    "def fit_odeint(x, beta, gamma):\n",
    "    '''\n",
    "    helper function for the integration\n",
    "    '''\n",
    "    global S0, I0, R0, t\n",
    "    return N0 - integrate.odeint(SIR_model_t, (S0, I0, R0), t, args=(beta, gamma))[:,0]    # return total summed cases (=N0-S)\n",
    "#     return integrate.odeint(SIR_model_t, (S0, I0, R0), t, args=(beta, gamma))[:,1] # we only would like to get dI\n"
   ]
  },
  {
   "cell_type": "markdown",
   "metadata": {},
   "source": [
    "## Visualization with Plotly"
   ]
  },
  {
   "cell_type": "code",
   "execution_count": 5,
   "metadata": {},
   "outputs": [],
   "source": [
    "fig_sir = go.Figure()\n",
    "# # defines the overall layout properties\n",
    "# fig.update_layout(\n",
    "#     width=1200,\n",
    "#     height=1200,\n",
    "#     xaxis_title='Time',\n",
    "#     yaxis_title='Confirmed infected people (source: Our World in Data, log-scale)',\n",
    "# )\n",
    "# fig.update_yaxes(type='log',range=[1.1,10])\n",
    "\n",
    "# fig.update_layout(xaxis_rangeslider_visible=True)\n",
    "# # fig.show(renderer='browser')"
   ]
  },
  {
   "cell_type": "code",
   "execution_count": 6,
   "metadata": {},
   "outputs": [],
   "source": [
    "app = dash.Dash()\n",
    "app.layout = html.Div([\n",
    "    html.H1('Dynamic Covid-19 Dashboard'),\n",
    "    daq.BooleanSwitch(id='loglin_switch', on=False, label=\"Logarithmic scale\", labelPosition=\"top\"),\n",
    "    html.Label('Select the countries to display:'),\n",
    "    doc.Dropdown(\n",
    "        id = 'country_drop_down',\n",
    "        options=[{'label': country, 'value': country} for country in countries],\n",
    "        value=['Germany'],        # which are pre-selected\n",
    "        multi=True\n",
    "    ),\n",
    "    doc.Graph(figure=fig_sir,id='main_window_sir')\n",
    "])"
   ]
  },
  {
   "cell_type": "code",
   "execution_count": 7,
   "metadata": {},
   "outputs": [],
   "source": [
    "@app.callback(\n",
    "    Output('main_window_sir', 'figure'),\n",
    "    [Input('country_drop_down', 'value'), Input('loglin_switch', 'on')])\n",
    "def update_figure(countries_to_show, switch_state):\n",
    "    global N0, S0, I0, R0, t\n",
    "    traces = []\n",
    "    for country in countries_to_show:\n",
    "        total_cases_country = df_covid.total_cases[df_covid.location==country]\n",
    "        ydata = np.array(total_cases_country.iloc[50:180])\n",
    "        t=np.arange(len(ydata))\n",
    "        \n",
    "        # use population of country from dataframe\n",
    "        N0 = df_covid.population[df_covid.location==country].iloc[60];\n",
    "        I0=ydata[0]          # Initial value of infected people\n",
    "        S0=N0-I0             # Initial value for sususceptible people\n",
    "        R0=0                 # Initial value for recovered people\n",
    "        # the resulting curve has to be fitted\n",
    "        # free parameters are here beta and gamma\n",
    "        \n",
    "        popt, pcov = optimize.curve_fit(fit_odeint, t, ydata)       # popt contains fitted beta and gamma\n",
    "        perr = np.sqrt(np.diag(pcov))\n",
    "        print('standard deviation errors : ',str(perr), ' start infect:',ydata[0])\n",
    "        print(\"Optimal parameters: beta =\", popt[0], \" and gamma = \", popt[1])\n",
    "        # get the final fitted curve\n",
    "        fitted = fit_odeint(t, *popt)\n",
    "        print(N0, I0, S0)\n",
    "        \n",
    "        traces.append(dict(x=t,\n",
    "                             y=ydata,\n",
    "                             name=f\"Total (Summed) Cases {country}\",\n",
    "                             opacity=0.9,\n",
    "                             line_width=2,\n",
    "                             marker_size=4,\n",
    "                             mode='markers'\n",
    "                          )\n",
    "                     )\n",
    "        traces.append(dict(x=t,\n",
    "                             y=fitted,\n",
    "                             name=f\"Total Cases according to SIR-model {country} (=N0-S)\",\n",
    "                             line_width=2,\n",
    "                             marker_size=4,\n",
    "                             mode='lines'\n",
    "                          )\n",
    "                     )\n",
    "        \n",
    "    return {\n",
    "        'data': traces,\n",
    "        'layout': dict(width=1280,\n",
    "                        height=720,\n",
    "                        title=\"Fit of SIR model for selected countries\",\n",
    "                        xaxis={'tickangle':-45,\n",
    "                              'nticks':20,\n",
    "                              'tickfont':dict(size=14,color='#7f7f7f'),\n",
    "                               'title':'Days',\n",
    "                              },\n",
    "                        yaxis={\n",
    "                            'type': ('log' if switch_state else 'linear'),\n",
    "                            'range':('[0.1,100]' if switch_state else '[0,100000000]'),\n",
    "                            'title':'Population Infected'\n",
    "                        })\n",
    "    }"
   ]
  },
  {
   "cell_type": "code",
   "execution_count": 8,
   "metadata": {},
   "outputs": [
    {
     "name": "stdout",
     "output_type": "stream",
     "text": [
      "Dash is running on http://127.0.0.1:8050/\n",
      "\n",
      " * Serving Flask app \"__main__\" (lazy loading)\n",
      " * Environment: production\n",
      "   WARNING: This is a development server. Do not use it in a production deployment.\n",
      "   Use a production WSGI server instead.\n",
      " * Debug mode: on\n",
      "standard deviation errors :  [0.00995396 0.00997698]  start infect: 7156.0\n",
      "Optimal parameters: beta = 0.8282730381781627  and gamma =  0.8574025747465149\n",
      "83408554.0 7156.0 83401398.0\n",
      "standard deviation errors :  [0.00995396 0.00997698]  start infect: 7156.0\n",
      "Optimal parameters: beta = 0.8282730381781627  and gamma =  0.8574025747465149\n",
      "83408554.0 7156.0 83401398.0\n",
      "standard deviation errors :  [0.00995396 0.00997698]  start infect: 7156.0\n",
      "Optimal parameters: beta = 0.8282730381781627  and gamma =  0.8574025747465149\n",
      "83408554.0 7156.0 83401398.0\n"
     ]
    }
   ],
   "source": [
    "# take care to press stop button before calling once again, since address will be blocked (server up)\n",
    "app.run(debug=True, use_reloader=False)"
   ]
  },
  {
   "cell_type": "code",
   "execution_count": 9,
   "metadata": {},
   "outputs": [
    {
     "name": "stdout",
     "output_type": "stream",
     "text": [
      "Optimal parameters: beta = 0.11850917803956089  and gamma =  0.06564450920039565\n"
     ]
    }
   ],
   "source": [
    "country = \"Germany\"\n",
    "total_cases_country = df_covid.total_cases[df_covid.location==country]\n",
    "ydata = np.array(total_cases_country.iloc[100:])\n",
    "t=np.arange(len(ydata))\n",
    "N0 = 10000000 #max susceptible population\n",
    "I0=ydata[0]\n",
    "S0=N0-I0\n",
    "R0=0\n",
    "popt, pcov = optimize.curve_fit(fit_odeint, t, ydata)       # popt contains fitted beta and gamma\n",
    "print(\"Optimal parameters: beta =\", popt[0], \" and gamma = \", popt[1])\n",
    "fitted = fit_odeint(t, *popt)"
   ]
  },
  {
   "cell_type": "code",
   "execution_count": 10,
   "metadata": {},
   "outputs": [],
   "source": [
    "%matplotlib inline\n",
    "import matplotlib as mpl\n",
    "import matplotlib.pyplot as plt\n",
    "\n",
    "import seaborn as sns\n",
    "\n",
    "\n",
    "sns.set(style=\"darkgrid\")"
   ]
  },
  {
   "cell_type": "code",
   "execution_count": 11,
   "metadata": {},
   "outputs": [
    {
     "data": {
      "image/png": "[encoded data removed]",
      "text/plain": [
       "<Figure size 432x288 with 1 Axes>"
      ]
     },
     "metadata": {},
     "output_type": "display_data"
    },
    {
     "name": "stdout",
     "output_type": "stream",
     "text": [
      "Optimal parameters: beta = 0.11850917803956089  and gamma =  0.06564450920039565\n",
      "Basic Reproduction Number R0  1.805317451270496\n",
      "This ratio is derived as the expected number of new infections (these new infections are sometimes called secondary infections from a single infection in a population where all subjects are susceptible. @wiki\n"
     ]
    }
   ],
   "source": [
    "plt.semilogy(t,np.ediff1d(ydata, to_begin=ydata[1]-ydata[0]), 'o')\n",
    "plt.semilogy(t, fitted)\n",
    "\n",
    "plt.title(\"Fit of SIR model for Germany cases\")\n",
    "plt.ylabel(\"New Population infected\")\n",
    "plt.xlabel(\"Days\")\n",
    "plt.show()\n",
    "print(\"Optimal parameters: beta =\", popt[0], \" and gamma = \", popt[1])\n",
    "print(\"Basic Reproduction Number R0 \" , popt[0]/ popt[1])\n",
    "print(\"This ratio is derived as the expected number of new infections (these new infections are sometimes called secondary infections from a single infection in a population where all subjects are susceptible. @wiki\")\n"
   ]
  },
  {
   "cell_type": "code",
   "execution_count": null,
   "metadata": {},
   "outputs": [],
   "source": []
  }
 ],
 "metadata": {
  "kernelspec": {
   "display_name": "Python 3",
   "language": "python",
   "name": "python3"
  },
  "language_info": {
   "codemirror_mode": {
    "name": "ipython",
    "version": 3
   },
   "file_extension": ".py",
   "mimetype": "text/x-python",
   "name": "python",
   "nbconvert_exporter": "python",
   "pygments_lexer": "ipython3",
   "version": "3.7.6"
  }
 },
 "nbformat": 4,
 "nbformat_minor": 4
}
